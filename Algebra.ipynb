{
  "nbformat": 4,
  "nbformat_minor": 0,
  "metadata": {
    "colab": {
      "provenance": [],
      "authorship_tag": "ABX9TyMho7gZm14lktw9L2p2xC9U",
      "include_colab_link": true
    },
    "kernelspec": {
      "name": "python3",
      "display_name": "Python 3"
    },
    "language_info": {
      "name": "python"
    }
  },
  "cells": [
    {
      "cell_type": "markdown",
      "metadata": {
        "id": "view-in-github",
        "colab_type": "text"
      },
      "source": [
        "<a href=\"https://colab.research.google.com/github/snr-roko/collegeAlgebra/blob/main/Algebra.ipynb\" target=\"_parent\"><img src=\"https://colab.research.google.com/assets/colab-badge.svg\" alt=\"Open In Colab\"/></a>"
      ]
    },
    {
      "cell_type": "code",
      "execution_count": null,
      "metadata": {
        "id": "SXE7I54KVo_v"
      },
      "outputs": [],
      "source": []
    },
    {
      "cell_type": "markdown",
      "source": [
        "## Proportion\n",
        "n1/d1 = n2/d2\n",
        "\n",
        "_Solve_ for the missing number"
      ],
      "metadata": {
        "id": "3OyCop6PEjjQ"
      }
    },
    {
      "cell_type": "code",
      "source": [
        "# missing number is denoted with x\n",
        "\n",
        "def proportion(n1, d1, n2, d2):\n",
        "  if n1 == 'x':\n",
        "    return ('x = ' + str((d1 * n2)/d2))\n",
        "  if n2 == 'x':\n",
        "    return ('x = ' + str((d2 * n1)/d1))\n",
        "  if d1 == 'x':\n",
        "    return ('x = ' + str((n1 * d2)/n1))\n",
        "  if d2 == 'x':\n",
        "    return ('x = ' + str((d1 * n2)/n1))\n",
        "\n",
        "# n denotes numerator\n",
        "# d denotes denominator\n",
        "\n",
        "# Find x\n",
        "\n",
        "print(proportion(0, 2, 'x', 8))"
      ],
      "metadata": {
        "colab": {
          "base_uri": "https://localhost:8080/"
        },
        "id": "gYLvNXmPE54u",
        "outputId": "5907a17c-d85d-4069-8081-30353af2fecc"
      },
      "execution_count": 4,
      "outputs": [
        {
          "output_type": "stream",
          "name": "stdout",
          "text": [
            "x = 0.0\n"
          ]
        }
      ]
    }
  ]
}