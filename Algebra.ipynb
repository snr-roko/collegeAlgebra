{
  "nbformat": 4,
  "nbformat_minor": 0,
  "metadata": {
    "colab": {
      "provenance": [],
      "authorship_tag": "ABX9TyPgRGpN98/KgvByKFRyo1AW",
      "include_colab_link": true
    },
    "kernelspec": {
      "name": "python3",
      "display_name": "Python 3"
    },
    "language_info": {
      "name": "python"
    }
  },
  "cells": [
    {
      "cell_type": "markdown",
      "metadata": {
        "id": "view-in-github",
        "colab_type": "text"
      },
      "source": [
        "<a href=\"https://colab.research.google.com/github/snr-roko/collegeAlgebra/blob/main/Algebra.ipynb\" target=\"_parent\"><img src=\"https://colab.research.google.com/assets/colab-badge.svg\" alt=\"Open In Colab\"/></a>"
      ]
    },
    {
      "cell_type": "code",
      "execution_count": null,
      "metadata": {
        "id": "SXE7I54KVo_v"
      },
      "outputs": [],
      "source": []
    },
    {
      "cell_type": "markdown",
      "source": [
        "## Proportion\n",
        "n1/d1 = n2/d2\n",
        "\n",
        "_Solve_ for the missing number"
      ],
      "metadata": {
        "id": "3OyCop6PEjjQ"
      }
    },
    {
      "cell_type": "code",
      "source": [
        "# missing number is denoted with x\n",
        "\n",
        "def proportion(n1, d1, n2, d2):\n",
        "  if n1 == 'x':\n",
        "    return ('x = ' + str((d1 * n2)/d2))\n",
        "  if n2 == 'x':\n",
        "    return ('x = ' + str((d2 * n1)/d1))\n",
        "  if d1 == 'x':\n",
        "    return ('x = ' + str((n1 * d2)/n1))\n",
        "  if d2 == 'x':\n",
        "    return ('x = ' + str((d1 * n2)/n1))\n",
        "\n"
      ],
      "metadata": {
        "id": "gYLvNXmPE54u"
      },
      "execution_count": 1,
      "outputs": []
    },
    {
      "cell_type": "code",
      "source": [
        "# Testing Proportions\n",
        "\n",
        "# n denotes numerator\n",
        "# d denotes denominator\n",
        "\n",
        "# Find x\n",
        "\n",
        "print(proportion(0, 2, 'x', 8))"
      ],
      "metadata": {
        "colab": {
          "base_uri": "https://localhost:8080/"
        },
        "id": "xzMGJZs6523g",
        "outputId": "b0eb50bb-ed67-4733-c9a8-b837fc5ab1a6"
      },
      "execution_count": 2,
      "outputs": [
        {
          "output_type": "stream",
          "name": "stdout",
          "text": [
            "x = 0.0\n"
          ]
        }
      ]
    },
    {
      "cell_type": "markdown",
      "source": [
        "## Solving For X In Equations\n"
      ],
      "metadata": {
        "id": "NxMLnNeS18zZ"
      }
    },
    {
      "cell_type": "code",
      "source": [
        "# Importing relevant libraries to solve equations\n",
        "import sympy\n",
        "from sympy import symbols\n",
        "from sympy.solvers import solve\n",
        "\n",
        "# Equation to solve an equation given an expression equals 0\n",
        "# eq parameter represents the other side of the equation\n",
        "def solve_eq(eq):\n",
        "  x = symbols('x')\n",
        "  return \"x = \"+ str(solve(eq, x))\n",
        "\n"
      ],
      "metadata": {
        "id": "ere-rAF73B0S"
      },
      "execution_count": 9,
      "outputs": []
    },
    {
      "cell_type": "code",
      "source": [
        "# Declaring the variable x in the global scope to be used\n",
        "x = symbols('x')\n",
        "\n",
        "# Testing Equations function\n",
        "\n",
        "print(solve_eq(x**2 - 4))"
      ],
      "metadata": {
        "colab": {
          "base_uri": "https://localhost:8080/"
        },
        "id": "Ue3zTzVO8Pqr",
        "outputId": "7652a462-61e8-4caf-fb31-ceaec1647d4f"
      },
      "execution_count": 11,
      "outputs": [
        {
          "output_type": "stream",
          "name": "stdout",
          "text": [
            "x = [-2, 2]\n"
          ]
        }
      ]
    }
  ]
}